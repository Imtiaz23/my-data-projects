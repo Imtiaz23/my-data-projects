{
 "cells": [
  {
   "cell_type": "code",
   "execution_count": null,
   "id": "98dd67e5",
   "metadata": {},
   "outputs": [],
   "source": [
    "import re\n",
    "import json\n",
    "\n",
    "# Read the JSON data from your file\n",
    "with open('tweets.json', 'r+', encoding=\"utf8\") as file:\n",
    "    json_data = file.read()\n",
    "\n",
    "# Remove lines starting with /* and store the cleaned data\n",
    "cleaned_data = '\\n'.join(line for line in json_data.split('\\n') if not line.strip().startswith('/*'))\n",
    "\n",
    "# Define a regular expression pattern to match values that are not fully within quotes\n",
    "patternObjectId = r'ObjectId\\(\"([^\"]+)\"\\)'\n",
    "patternNumeLong = r'NumberLong\\((\\d+)\\)'\n",
    "\n",
    "def replaceNumeLong(match):\n",
    "    return match.group(1)\n",
    "\n",
    "def replaceObjectId(match):\n",
    "    matched_content = match.group(1)\n",
    "    return f'\"{matched_content}\"'\n",
    "\n",
    "# Use the re.sub function to replace the values\n",
    "modified_data = re.sub(patternObjectId, replaceObjectId, cleaned_data)\n",
    "\n",
    "modified_data_2 = re.sub(patternNumeLong, replaceNumeLong, modified_data)\n",
    "\n",
    "with open('tweets.json', 'w', encoding=\"utf8\") as file:\n",
    "    file.write(modified_data_2)"
   ]
  },
  {
   "cell_type": "code",
   "execution_count": 2,
   "id": "484688ee",
   "metadata": {},
   "outputs": [],
   "source": [
    "# Read the JSON file\n",
    "with open('tweets.json', 'r', encoding=\"utf8\") as file:\n",
    "    lines = file.readlines()\n",
    "\n",
    "# Iterate through the lines and add a comma after each }\n",
    "for i in range(len(lines) - 1):\n",
    "    if lines[i].strip() == '}' and lines[i + 1].strip() == '':\n",
    "        lines[i] = '},\\n'\n",
    "\n",
    "# Write the modified lines back to the file\n",
    "with open('cleaned_tweets.json', 'w', encoding=\"utf8\") as file:\n",
    "    file.writelines(lines)\n"
   ]
  },
  {
   "cell_type": "code",
   "execution_count": null,
   "id": "352accdc",
   "metadata": {},
   "outputs": [],
   "source": []
  }
 ],
 "metadata": {
  "kernelspec": {
   "display_name": "Python 3",
   "language": "python",
   "name": "python3"
  },
  "language_info": {
   "codemirror_mode": {
    "name": "ipython",
    "version": 3
   },
   "file_extension": ".py",
   "mimetype": "text/x-python",
   "name": "python",
   "nbconvert_exporter": "python",
   "pygments_lexer": "ipython3",
   "version": "3.8.8"
  }
 },
 "nbformat": 4,
 "nbformat_minor": 5
}
